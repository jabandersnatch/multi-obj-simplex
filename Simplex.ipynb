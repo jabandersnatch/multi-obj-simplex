{
 "cells": [
  {
   "cell_type": "markdown",
   "metadata": {},
   "source": [
    "# Lab 6: Simplex algorithm\n",
    "@Author:  Juan Andrés Méndez Galvis, German Adolfo Montoya Orozco, Carlos Andrés Lozano Garzón"
   ]
  },
  {
   "cell_type": "markdown",
   "metadata": {},
   "source": [
    "# What is the simplex algorithm?\n",
    "\n",
    "The simplex algorithm is a method for solving linear programming problems. It was developed by George Dantzig in 1947. The simplex algorithm is an iterative procedure for finding the optimal solution to a linear programming problem. The simplex algorithm operates on a feasible solution to the problem, and moves from one feasible solution to another until the optimal solution is reached."
   ]
  },
  {
   "cell_type": "markdown",
   "metadata": {},
   "source": [
    "## When to use the simplex algorithm?\n",
    "\n",
    "The simplex algorithm is used to solve linear programming problems. A linear programming problem is a mathematical optimization problem in which a linear objective function is maximized or minimized subject to a set of linear constraints. The simplex algorithm is used to solve linear programming problems in which the objective function and constraints are linear."
   ]
  },
  {
   "cell_type": "markdown",
   "metadata": {},
   "source": [
    "## What types of simplex algorithms are there?\n",
    "\n",
    "- The primal simplex algorithm: The primal simplex algorithm is used to solve linear programming problems in which the objective function is to be maximized.\n",
    "- The dual simplex algorithm: The dual simplex algorithm is used to solve linear programming problems in which the objective function is to be minimized.\n",
    "- The revised simplex algorithm: The revised simplex algorithm is a variant of the primal simplex algorithm that is used to solve linear programming problems in which the objective function is to be maximized."
   ]
  },
  {
   "cell_type": "markdown",
   "metadata": {},
   "source": [
    "## Simplex algorithm steps\n",
    "\n",
    "---\n",
    "\n",
    "**Simplex algorithm steps:**\n",
    "\n",
    "---\n",
    "\n",
    "1. **Initialization:** Start with a feasible solution to the problem.\n",
    "2. **Optimality test:** Check if the current solution is optimal.\n",
    "3. **Pivot:** If the current solution is not optimal, find a pivot element and update the solution.\n",
    "4. **Repeat:** Repeat steps 2 and 3 until the optimal solution is reached.\n"
   ]
  },
  {
   "cell_type": "markdown",
   "metadata": {},
   "source": [
    "## Tabular algorithm\n",
    "\n",
    "---\n",
    "\n",
    "**Tabular Simplex Algorithm:**\n",
    "\n",
    "---\n",
    "\n",
    "1. **Initialization:** Start with a feasible solution to the problem.\n",
    "2. **Optimality test:** Check if the current solution is optimal.\n",
    "3. **Pivot:** If the current solution is not optimal, find a pivot element and update the solution.\n",
    "4. **Repeat:** Repeat steps 2 and 3 until the optimal solution is reached."
   ]
  }
 ],
 "metadata": {
  "kernelspec": {
   "display_name": "Python 3",
   "language": "python",
   "name": "python3"
  },
  "language_info": {
   "name": "python",
   "version": "3.12.2"
  }
 },
 "nbformat": 4,
 "nbformat_minor": 2
}
